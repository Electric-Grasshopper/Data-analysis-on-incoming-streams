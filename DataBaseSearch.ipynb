{
 "metadata": {
  "language_info": {
   "codemirror_mode": {
    "name": "ipython",
    "version": 3
   },
   "file_extension": ".py",
   "mimetype": "text/x-python",
   "name": "python",
   "nbconvert_exporter": "python",
   "pygments_lexer": "ipython3",
   "version": "3.8.6"
  },
  "orig_nbformat": 4,
  "kernelspec": {
   "name": "python3",
   "display_name": "Python 3.8.6 64-bit"
  },
  "interpreter": {
   "hash": "5d97ad4eda96f4e0dcd5ae4f97368654619500468c6147550d2a1b2a1881f9a5"
  }
 },
 "nbformat": 4,
 "nbformat_minor": 2,
 "cells": [
  {
   "cell_type": "code",
   "execution_count": null,
   "metadata": {},
   "outputs": [],
   "source": [
    "import json\n",
    "\n",
    "from prettytable import PrettyTable\n",
    "from stringMatcher import levenshtein_ratio_and_distance\n",
    "from time import time\n",
    "\n",
    "table = PrettyTable(field_names=[\"UserID\", \"Rating\", \"Tags\", \"Timestamp\"])"
   ]
  },
  {
   "source": [
    "## Load The database into the memory..."
   ],
   "cell_type": "markdown",
   "metadata": {}
  },
  {
   "cell_type": "code",
   "execution_count": null,
   "metadata": {},
   "outputs": [],
   "source": [
    "data = json.load(open(\"dataStore/dataFinal.json\", \"rb\"))"
   ]
  },
  {
   "source": [
    "## Load the Global Secondary index in the memory..."
   ],
   "cell_type": "markdown",
   "metadata": {}
  },
  {
   "cell_type": "code",
   "execution_count": null,
   "metadata": {},
   "outputs": [],
   "source": [
    "GIS = json.load(open(\"dataStore/dataFinal_GIS.json\", \"rb\"))"
   ]
  },
  {
   "source": [
    "## Write a function to search the movies by ```Title```"
   ],
   "cell_type": "markdown",
   "metadata": {}
  },
  {
   "cell_type": "code",
   "execution_count": null,
   "metadata": {},
   "outputs": [],
   "source": [
    "def getClosestMatch(queryString):\n",
    "    # Initialize the time counter...\n",
    "    tic                  = time()\n",
    "    \n",
    "    # Find closest match of the queryString from the Global Secondary Index...\n",
    "    matchRatios          = [levenshtein_ratio_and_distance(queryString, KEY) for KEY, _ in GIS.items()]\n",
    "    bestMatchRatio       = max(matchRatios)\n",
    "\n",
    "    # If the best match ratio is less than 50% then we will assume that the records doesn't exist...\n",
    "    if (bestMatchRatio < 0.5):\n",
    "        return {\n",
    "            \"response code\" : 404,\n",
    "            \"search time\"   : f\"{time()-tic} seconds\",\n",
    "            \"message\"       : \"error\",\n",
    "            \"response body\" : \"no match found\"\n",
    "        }\n",
    "    \n",
    "    # Otherwise...\n",
    "    bestMatchRatio_index = matchRatios.index(bestMatchRatio)\n",
    "\n",
    "    # Find the movieID of the movie which is the best match to the queryString...\n",
    "    bestMatch_MovieTitle = list(GIS)[bestMatchRatio_index]\n",
    "    bestMatch_MovieID    = GIS[bestMatch_MovieTitle]\n",
    "\n",
    "    # Now we have movieID which is the primary key in our main data-store...\n",
    "    # Retrieve the details of the movie from the MovieID\n",
    "    movieInfo            = data[str(bestMatch_MovieID)]\n",
    "    \n",
    "    # Mark the search completion time...\n",
    "    toc                  = time()\n",
    "\n",
    "    # Add Movie Title to the response...\n",
    "    movieInfo[\"title\"] = bestMatch_MovieTitle\n",
    "    # Construct the response Model...\n",
    "    responseModel = {\n",
    "        \"response code\" : 200,\n",
    "        \"search time\"   : f\"{toc-tic} seconds\",\n",
    "        \"message\"       : \"success\",\n",
    "        \"response body\" : movieInfo\n",
    "    }\n",
    "    \n",
    "    return responseModel"
   ]
  },
  {
   "source": [
    "## Write a function to make a request and visualize the data returned by the search function..."
   ],
   "cell_type": "markdown",
   "metadata": {}
  },
  {
   "cell_type": "code",
   "execution_count": null,
   "metadata": {},
   "outputs": [],
   "source": [
    "def request(movieToSearch=\"\"):\n",
    "    # Movie name should always be in a string...\n",
    "    movieToSearch = str(movieToSearch)\n",
    "    # Check if the movie name is valid...\n",
    "    if(movieToSearch.replace(\" \", \"\").strip() == \"\"):\n",
    "        return f\"Invalid Movie Name\"\n",
    "    \n",
    "    # Make a request to fetch the movie info...\n",
    "    response = getClosestMatch(queryString = movieToSearch)\n",
    "\n",
    "    # Check the response code...\n",
    "    if response[\"response code\"] == 404:\n",
    "        return f\"ERROR: No records found\"\n",
    "    \n",
    "    # otherwise...\n",
    "    # Construct user ratings table...\n",
    "    ratings = response[\"response body\"][\"user_rating\"]\n",
    "    tags    = response[\"response body\"][\"tags\"]\n",
    "\n",
    "    for rating in ratings:\n",
    "        try    : tags_by_a_single_user_to_a_single_movie = \", \".join([tag for tag in tags if rating[\"userId\"] == tag[\"userId\"]]) # Please don't mind the long veriable name :-)\n",
    "        except : tags_by_a_single_user_to_a_single_movie = \"\"\n",
    "        break\n",
    "    table.add_row([rating[\"userId\"], rating[\"rating\"], \", \".join(tags_by_a_single_user_to_a_single_movie), rating[\"time_stamp\"]])\n",
    "    # Now we need to check if a user has given \n",
    "    data_to_print = f\"\\\n",
    "    Title          : {response['response body']['title']}\\n\\\n",
    "    Genre          : {response['response body']['genre']}\\n\\\n",
    "    User Ratings   : ---------------------------\\n\\\n",
    "    \"\n",
    "    print(data_to_print)\n",
    "    print(table)"
   ]
  },
  {
   "source": [
    "## Finally Make a request..."
   ],
   "cell_type": "markdown",
   "metadata": {}
  },
  {
   "cell_type": "code",
   "execution_count": null,
   "metadata": {},
   "outputs": [],
   "source": [
    "request(movieToSearch=\"Hell Boy\")"
   ]
  }
 ]
}